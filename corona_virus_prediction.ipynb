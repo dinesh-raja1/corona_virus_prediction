{
  "nbformat": 4,
  "nbformat_minor": 0,
  "metadata": {
    "colab": {
      "name": "corona virus prediction.ipynb",
      "provenance": [],
      "collapsed_sections": [],
      "mount_file_id": "1CsVrvHaDRpth701w6czTUOhUE_UY7nuk",
      "authorship_tag": "ABX9TyNDV8yHhOmuuYYW7PV80wus",
      "include_colab_link": true
    },
    "kernelspec": {
      "name": "python3",
      "display_name": "Python 3"
    },
    "language_info": {
      "name": "python"
    }
  },
  "cells": [
    {
      "cell_type": "markdown",
      "metadata": {
        "id": "view-in-github",
        "colab_type": "text"
      },
      "source": [
        "<a href=\"https://colab.research.google.com/github/dinesh-raja1/dinesh-raja1/blob/main/corona_virus_prediction.ipynb\" target=\"_parent\"><img src=\"https://colab.research.google.com/assets/colab-badge.svg\" alt=\"Open In Colab\"/></a>"
      ]
    },
    {
      "cell_type": "code",
      "metadata": {
        "colab": {
          "base_uri": "https://localhost:8080/"
        },
        "id": "-_33ciREozrU",
        "outputId": "60aec005-0eaf-4ee4-f4ee-94c4fa695617"
      },
      "source": [
        "from google.colab import drive\n",
        "drive.mount('/content/drive/')"
      ],
      "execution_count": null,
      "outputs": [
        {
          "output_type": "stream",
          "text": [
            "Mounted at /content/drive/\n"
          ],
          "name": "stdout"
        }
      ]
    },
    {
      "cell_type": "code",
      "metadata": {
        "id": "3Vmk0IdXpWTs"
      },
      "source": [
        "import warnings\n",
        "warnings.filterwarnings('ignore')\n",
        "import pandas as pd \n",
        "from google.colab import files\n",
        "import numpy as np\n",
        "import matplotlib.pyplot as plt\n",
        "import seaborn as sns"
      ],
      "execution_count": 3,
      "outputs": []
    },
    {
      "cell_type": "code",
      "metadata": {
        "id": "N52X70O6sbw3"
      },
      "source": [
        "covid = pd.read_csv('covid_19_india.csv')"
      ],
      "execution_count": 4,
      "outputs": []
    },
    {
      "cell_type": "code",
      "metadata": {
        "colab": {
          "base_uri": "https://localhost:8080/",
          "height": 289
        },
        "id": "E_HgZzcA1S8Z",
        "outputId": "61b8fff9-7d1f-407f-d829-ea963798c685"
      },
      "source": [
        "covid.head()"
      ],
      "execution_count": null,
      "outputs": [
        {
          "output_type": "execute_result",
          "data": {
            "text/html": [
              "<div>\n",
              "<style scoped>\n",
              "    .dataframe tbody tr th:only-of-type {\n",
              "        vertical-align: middle;\n",
              "    }\n",
              "\n",
              "    .dataframe tbody tr th {\n",
              "        vertical-align: top;\n",
              "    }\n",
              "\n",
              "    .dataframe thead th {\n",
              "        text-align: right;\n",
              "    }\n",
              "</style>\n",
              "<table border=\"1\" class=\"dataframe\">\n",
              "  <thead>\n",
              "    <tr style=\"text-align: right;\">\n",
              "      <th></th>\n",
              "      <th>Sno</th>\n",
              "      <th>Date</th>\n",
              "      <th>Time</th>\n",
              "      <th>State/UnionTerritory</th>\n",
              "      <th>ConfirmedIndianNational</th>\n",
              "      <th>ConfirmedForeignNational</th>\n",
              "      <th>Cured</th>\n",
              "      <th>Deaths</th>\n",
              "      <th>Confirmed</th>\n",
              "    </tr>\n",
              "  </thead>\n",
              "  <tbody>\n",
              "    <tr>\n",
              "      <th>0</th>\n",
              "      <td>1</td>\n",
              "      <td>2020-01-30</td>\n",
              "      <td>6:00 PM</td>\n",
              "      <td>Kerala</td>\n",
              "      <td>1</td>\n",
              "      <td>0</td>\n",
              "      <td>0</td>\n",
              "      <td>0</td>\n",
              "      <td>1</td>\n",
              "    </tr>\n",
              "    <tr>\n",
              "      <th>1</th>\n",
              "      <td>2</td>\n",
              "      <td>2020-01-31</td>\n",
              "      <td>6:00 PM</td>\n",
              "      <td>Kerala</td>\n",
              "      <td>1</td>\n",
              "      <td>0</td>\n",
              "      <td>0</td>\n",
              "      <td>0</td>\n",
              "      <td>1</td>\n",
              "    </tr>\n",
              "    <tr>\n",
              "      <th>2</th>\n",
              "      <td>3</td>\n",
              "      <td>2020-02-01</td>\n",
              "      <td>6:00 PM</td>\n",
              "      <td>Kerala</td>\n",
              "      <td>2</td>\n",
              "      <td>0</td>\n",
              "      <td>0</td>\n",
              "      <td>0</td>\n",
              "      <td>2</td>\n",
              "    </tr>\n",
              "    <tr>\n",
              "      <th>3</th>\n",
              "      <td>4</td>\n",
              "      <td>2020-02-02</td>\n",
              "      <td>6:00 PM</td>\n",
              "      <td>Kerala</td>\n",
              "      <td>3</td>\n",
              "      <td>0</td>\n",
              "      <td>0</td>\n",
              "      <td>0</td>\n",
              "      <td>3</td>\n",
              "    </tr>\n",
              "    <tr>\n",
              "      <th>4</th>\n",
              "      <td>5</td>\n",
              "      <td>2020-02-03</td>\n",
              "      <td>6:00 PM</td>\n",
              "      <td>Kerala</td>\n",
              "      <td>3</td>\n",
              "      <td>0</td>\n",
              "      <td>0</td>\n",
              "      <td>0</td>\n",
              "      <td>3</td>\n",
              "    </tr>\n",
              "  </tbody>\n",
              "</table>\n",
              "</div>"
            ],
            "text/plain": [
              "   Sno        Date     Time  ... Cured Deaths Confirmed\n",
              "0    1  2020-01-30  6:00 PM  ...     0      0         1\n",
              "1    2  2020-01-31  6:00 PM  ...     0      0         1\n",
              "2    3  2020-02-01  6:00 PM  ...     0      0         2\n",
              "3    4  2020-02-02  6:00 PM  ...     0      0         3\n",
              "4    5  2020-02-03  6:00 PM  ...     0      0         3\n",
              "\n",
              "[5 rows x 9 columns]"
            ]
          },
          "metadata": {
            "tags": []
          },
          "execution_count": 4
        }
      ]
    },
    {
      "cell_type": "code",
      "metadata": {
        "colab": {
          "base_uri": "https://localhost:8080/"
        },
        "id": "B-vc5uc346Y1",
        "outputId": "d92d3084-3ffd-439c-d3d4-fc96aab9dcb4"
      },
      "source": [
        "covid.isna().sum()"
      ],
      "execution_count": 31,
      "outputs": [
        {
          "output_type": "execute_result",
          "data": {
            "text/plain": [
              "Sno                         0\n",
              "Date                        0\n",
              "Time                        0\n",
              "State/UnionTerritory        0\n",
              "ConfirmedIndianNational     0\n",
              "ConfirmedForeignNational    0\n",
              "Cured                       0\n",
              "Deaths                      0\n",
              "Confirmed                   0\n",
              "dtype: int64"
            ]
          },
          "metadata": {
            "tags": []
          },
          "execution_count": 31
        }
      ]
    },
    {
      "cell_type": "code",
      "metadata": {
        "colab": {
          "base_uri": "https://localhost:8080/"
        },
        "id": "LhvSLxba1fKW",
        "outputId": "7745a144-7a45-44ea-af39-6832b5f7d3b5"
      },
      "source": [
        "covid['State/UnionTerritory'].unique()"
      ],
      "execution_count": 8,
      "outputs": [
        {
          "output_type": "execute_result",
          "data": {
            "text/plain": [
              "array(['Kerala', 'Telengana', 'Delhi', 'Rajasthan', 'Uttar Pradesh',\n",
              "       'Haryana', 'Ladakh', 'Tamil Nadu', 'Karnataka', 'Maharashtra',\n",
              "       'Punjab', 'Jammu and Kashmir', 'Andhra Pradesh', 'Uttarakhand',\n",
              "       'Odisha', 'Puducherry', 'West Bengal', 'Chhattisgarh',\n",
              "       'Chandigarh', 'Gujarat', 'Himachal Pradesh', 'Madhya Pradesh',\n",
              "       'Bihar', 'Manipur', 'Mizoram', 'Andaman and Nicobar Islands',\n",
              "       'Goa', 'Unassigned', 'Assam', 'Jharkhand', 'Arunachal Pradesh',\n",
              "       'Tripura', 'Nagaland', 'Meghalaya',\n",
              "       'Dadra and Nagar Haveli and Daman and Diu',\n",
              "       'Cases being reassigned to states', 'Sikkim', 'Daman & Diu',\n",
              "       'Lakshadweep', 'Telangana', 'Dadra and Nagar Haveli'], dtype=object)"
            ]
          },
          "metadata": {
            "tags": []
          },
          "execution_count": 8
        }
      ]
    },
    {
      "cell_type": "code",
      "metadata": {
        "id": "djdyMMHHb8I0"
      },
      "source": [
        "df=covid.loc[(covid['State/UnionTerritory']=='Tamil Nadu')]"
      ],
      "execution_count": 7,
      "outputs": []
    },
    {
      "cell_type": "code",
      "metadata": {
        "colab": {
          "base_uri": "https://localhost:8080/",
          "height": 289
        },
        "id": "-VRQVnX7iQzl",
        "outputId": "e097cd65-f97b-477f-fe03-35690c20e23d"
      },
      "source": [
        "df.head()"
      ],
      "execution_count": null,
      "outputs": [
        {
          "output_type": "execute_result",
          "data": {
            "text/html": [
              "<div>\n",
              "<style scoped>\n",
              "    .dataframe tbody tr th:only-of-type {\n",
              "        vertical-align: middle;\n",
              "    }\n",
              "\n",
              "    .dataframe tbody tr th {\n",
              "        vertical-align: top;\n",
              "    }\n",
              "\n",
              "    .dataframe thead th {\n",
              "        text-align: right;\n",
              "    }\n",
              "</style>\n",
              "<table border=\"1\" class=\"dataframe\">\n",
              "  <thead>\n",
              "    <tr style=\"text-align: right;\">\n",
              "      <th></th>\n",
              "      <th>Sno</th>\n",
              "      <th>Date</th>\n",
              "      <th>Time</th>\n",
              "      <th>State/UnionTerritory</th>\n",
              "      <th>ConfirmedIndianNational</th>\n",
              "      <th>ConfirmedForeignNational</th>\n",
              "      <th>Cured</th>\n",
              "      <th>Deaths</th>\n",
              "      <th>Confirmed</th>\n",
              "    </tr>\n",
              "  </thead>\n",
              "  <tbody>\n",
              "    <tr>\n",
              "      <th>61</th>\n",
              "      <td>62</td>\n",
              "      <td>2020-03-07</td>\n",
              "      <td>6:00 PM</td>\n",
              "      <td>Tamil Nadu</td>\n",
              "      <td>1</td>\n",
              "      <td>0</td>\n",
              "      <td>0</td>\n",
              "      <td>0</td>\n",
              "      <td>1</td>\n",
              "    </tr>\n",
              "    <tr>\n",
              "      <th>67</th>\n",
              "      <td>68</td>\n",
              "      <td>2020-03-08</td>\n",
              "      <td>6:00 PM</td>\n",
              "      <td>Tamil Nadu</td>\n",
              "      <td>1</td>\n",
              "      <td>0</td>\n",
              "      <td>0</td>\n",
              "      <td>0</td>\n",
              "      <td>1</td>\n",
              "    </tr>\n",
              "    <tr>\n",
              "      <th>79</th>\n",
              "      <td>80</td>\n",
              "      <td>2020-03-09</td>\n",
              "      <td>6:00 PM</td>\n",
              "      <td>Tamil Nadu</td>\n",
              "      <td>1</td>\n",
              "      <td>0</td>\n",
              "      <td>0</td>\n",
              "      <td>0</td>\n",
              "      <td>1</td>\n",
              "    </tr>\n",
              "    <tr>\n",
              "      <th>94</th>\n",
              "      <td>95</td>\n",
              "      <td>2020-03-10</td>\n",
              "      <td>6:00 PM</td>\n",
              "      <td>Tamil Nadu</td>\n",
              "      <td>1</td>\n",
              "      <td>0</td>\n",
              "      <td>0</td>\n",
              "      <td>0</td>\n",
              "      <td>1</td>\n",
              "    </tr>\n",
              "    <tr>\n",
              "      <th>105</th>\n",
              "      <td>106</td>\n",
              "      <td>2020-03-11</td>\n",
              "      <td>6:00 PM</td>\n",
              "      <td>Tamil Nadu</td>\n",
              "      <td>1</td>\n",
              "      <td>0</td>\n",
              "      <td>0</td>\n",
              "      <td>0</td>\n",
              "      <td>1</td>\n",
              "    </tr>\n",
              "  </tbody>\n",
              "</table>\n",
              "</div>"
            ],
            "text/plain": [
              "     Sno        Date     Time  ... Cured Deaths Confirmed\n",
              "61    62  2020-03-07  6:00 PM  ...     0      0         1\n",
              "67    68  2020-03-08  6:00 PM  ...     0      0         1\n",
              "79    80  2020-03-09  6:00 PM  ...     0      0         1\n",
              "94    95  2020-03-10  6:00 PM  ...     0      0         1\n",
              "105  106  2020-03-11  6:00 PM  ...     0      0         1\n",
              "\n",
              "[5 rows x 9 columns]"
            ]
          },
          "metadata": {
            "tags": []
          },
          "execution_count": 22
        }
      ]
    },
    {
      "cell_type": "code",
      "metadata": {
        "colab": {
          "base_uri": "https://localhost:8080/",
          "height": 284
        },
        "id": "JSSDmJyPMcH6",
        "outputId": "e44a5da7-7f3e-47bd-8849-db4f694280d1"
      },
      "source": [
        "df['ConfirmedIndianNational'].value_counts().plot(kind='bar',title='deaths')\n",
        "plt.show()"
      ],
      "execution_count": 32,
      "outputs": [
        {
          "output_type": "display_data",
          "data": {
            "image/png": "[encoded data removed]",
            "text/plain": [
              "<Figure size 432x288 with 1 Axes>"
            ]
          },
          "metadata": {
            "tags": [],
            "needs_background": "light"
          }
        }
      ]
    },
    {
      "cell_type": "code",
      "metadata": {
        "id": "SES4KHDijBaM"
      },
      "source": [
        "import plotly.offline as py \n",
        "import plotly.graph_objs as go"
      ],
      "execution_count": 5,
      "outputs": []
    },
    {
      "cell_type": "code",
      "metadata": {
        "colab": {
          "base_uri": "https://localhost:8080/",
          "height": 542
        },
        "id": "53shBJ6bjiqP",
        "outputId": "0e486abc-73e3-45b6-9188-68f643f880de"
      },
      "source": [
        "cured_rate=go.Scatter(x=df['Date'],y=df['Cured'],name='Cured_Rate')\n",
        "death_rate=go.Scatter(x=df['Date'],y=df['Deaths'],name='Death_Rate')\n",
        "py.iplot([cured_rate,death_rate])"
      ],
      "execution_count": 9,
      "outputs": [
        {
          "output_type": "display_data",
          "data": {
            "text/html": [
              "<html>\n",
              "<head><meta charset=\"utf-8\" /></head>\n",
              "<body>\n",
              "    <div>\n",
              "            <script src=\"https://cdnjs.cloudflare.com/ajax/libs/mathjax/2.7.5/MathJax.js?config=TeX-AMS-MML_SVG\"></script><script type=\"text/javascript\">if (window.MathJax) {MathJax.Hub.Config({SVG: {font: \"STIX-Web\"}});}</script>\n",
              "                <script type=\"text/javascript\">window.PlotlyConfig = {MathJaxConfig: 'local'};</script>\n",
              "        <script src=\"https://cdn.plot.ly/plotly-latest.min.js\"></script>    \n",
              "            <div id=\"86fc1949-fb92-4087-a438-6dbde8cca956\" class=\"plotly-graph-div\" style=\"height:525px; width:100%;\"></div>\n",
              "            <script type=\"text/javascript\">\n",
              "                \n",
              "                    window.PLOTLYENV=window.PLOTLYENV || {};\n",
              "                    \n",
              "                if (document.getElementById(\"86fc1949-fb92-4087-a438-6dbde8cca956\")) {\n",
              "                    Plotly.newPlot(\n",
              "                        '86fc1949-fb92-4087-a438-6dbde8cca956',\n",
              "                        [{\"name\": \"Cured_Rate\", \"type\": \"scatter\", \"x\": [\"2020-03-07\", \"2020-03-08\", \"2020-03-09\", \"2020-03-10\", \"2020-03-11\", \"2020-03-12\", \"2020-03-13\", \"2020-03-14\", \"2020-03-15\", \"2020-03-16\", \"2020-03-17\", \"2020-03-18\", \"2020-03-19\", \"2020-03-20\", \"2020-03-21\", \"2020-03-22\", \"2020-03-23\", \"2020-03-24\", \"2020-03-25\", \"2020-03-26\", \"2020-03-27\", \"2020-03-28\", \"2020-03-29\", \"2020-03-30\", \"2020-03-31\", \"2020-04-01\", \"2020-04-02\", \"2020-04-03\", \"2020-04-04\", \"2020-04-05\", \"2020-04-06\", \"2020-04-07\", \"2020-04-08\", \"2020-04-09\", \"2020-04-10\", \"2020-04-11\", \"2020-04-12\", \"2020-04-13\", \"2020-04-14\", \"2020-04-15\", \"2020-04-16\", \"2020-04-17\", \"2020-04-18\", \"2020-04-19\", \"2020-04-20\", \"2020-04-21\", \"2020-04-22\", \"2020-04-23\", \"2020-04-24\", \"2020-04-25\", \"2020-04-26\", \"2020-04-27\", \"2020-04-28\", \"2020-04-29\", \"2020-04-30\", \"2020-05-01\", \"2020-05-02\", \"2020-05-03\", \"2020-05-04\", \"2020-05-05\", \"2020-05-06\", \"2020-05-07\", \"2020-05-08\", \"2020-05-09\", \"2020-05-10\", \"2020-05-11\", \"2020-05-12\", \"2020-05-13\", \"2020-05-14\", \"2020-05-15\", \"2020-05-16\", \"2020-05-17\", \"2020-05-18\", \"2020-05-19\", \"2020-05-20\", \"2020-05-21\", \"2020-05-22\", \"2020-05-23\", \"2020-05-24\", \"2020-05-25\", \"2020-05-26\", \"2020-05-27\", \"2020-05-28\", \"2020-05-29\", \"2020-05-30\", \"2020-05-31\", \"2020-06-01\", \"2020-06-02\", \"2020-06-03\", \"2020-06-04\", \"2020-06-05\", \"2020-06-06\", \"2020-06-07\", \"2020-06-08\", \"2020-06-09\", \"2020-06-10\", \"2020-06-11\", \"2020-06-12\", \"2020-06-13\", \"2020-06-14\", \"2020-06-15\", \"2020-06-16\", \"2020-06-17\", \"2020-06-18\", \"2020-06-19\", \"2020-06-20\", \"2020-06-21\", \"2020-06-22\", \"2020-06-23\", \"2020-06-24\", \"2020-06-25\", \"2020-06-26\", \"2020-06-27\", \"2020-06-28\", \"2020-06-29\", \"2020-06-30\", \"2020-07-01\", \"2020-07-02\", \"2020-07-03\", \"2020-07-04\", \"2020-07-05\", \"2020-07-06\", \"2020-07-07\", \"2020-07-08\", \"2020-07-09\", \"2020-07-10\", \"2020-07-11\", \"2020-07-12\", \"2020-07-13\", \"2020-07-14\", \"2020-07-15\", \"2020-07-16\", \"2020-07-17\", \"2020-07-18\", \"2020-07-19\", \"2020-07-20\", \"2020-07-21\", \"2020-07-22\", \"2020-07-23\", \"2020-07-24\", \"2020-07-25\", \"2020-07-26\", \"2020-07-27\", \"2020-07-28\", \"2020-07-29\", \"2020-07-30\", \"2020-07-31\", \"2020-08-01\", \"2020-08-02\", \"2020-08-03\", \"2020-08-04\", \"2020-08-05\", \"2020-08-06\", \"2020-08-07\", \"2020-08-08\", \"2020-08-09\", \"2020-08-10\", \"2020-08-11\", \"2020-08-12\", \"2020-08-13\", \"2020-08-14\", \"2020-08-15\", \"2020-08-16\", \"2020-08-17\", \"2020-08-18\", \"2020-08-19\", \"2020-08-20\", \"2020-08-21\", \"2020-08-22\", \"2020-08-23\", \"2020-08-24\", \"2020-08-25\", \"2020-08-26\", \"2020-08-27\", \"2020-08-28\", \"2020-08-29\", \"2020-08-30\", \"2020-08-31\", \"2020-09-01\", \"2020-09-02\", \"2020-09-03\", \"2020-09-04\", \"2020-09-05\", \"2020-09-06\", \"2020-09-07\", \"2020-09-08\", \"2020-09-09\", \"2020-09-10\", \"2020-09-11\", \"2020-09-12\", \"2020-09-13\", \"2020-09-14\", \"2020-09-15\", \"2020-09-16\", \"2020-09-17\", \"2020-09-18\", \"2020-09-19\", \"2020-09-20\", \"2020-09-21\", \"2020-09-22\", \"2020-09-23\", \"2020-09-24\", \"2020-09-25\", \"2020-09-26\", \"2020-09-27\", \"2020-09-28\", \"2020-09-29\", \"2020-09-30\", \"2020-10-01\", \"2020-10-02\", \"2020-10-03\", \"2020-10-04\", \"2020-10-05\", \"2020-10-06\", \"2020-10-07\", \"2020-10-08\", \"2020-10-09\", \"2020-10-10\", \"2020-10-11\", \"2020-10-12\", \"2020-10-13\", \"2020-10-14\", \"2020-10-15\", \"2020-10-16\", \"2020-10-17\", \"2020-10-18\", \"2020-10-19\", \"2020-10-20\", \"2020-10-21\", \"2020-10-22\", \"2020-10-23\", \"2020-10-24\", \"2020-10-25\", \"2020-10-26\", \"2020-10-27\", \"2020-10-28\", \"2020-10-29\", \"2020-10-30\", \"2020-10-31\", \"2020-11-01\", \"2020-11-02\", \"2020-11-03\", \"2020-11-04\", \"2020-11-05\", \"2020-11-06\", \"2020-11-07\", \"2020-11-08\", \"2020-11-09\", \"2020-11-10\", \"2020-11-11\", \"2020-11-12\", \"2020-11-13\", \"2020-11-14\", \"2020-11-15\", \"2020-11-16\", \"2020-11-17\", \"2020-11-18\", \"2020-11-19\", \"2020-11-20\", \"2020-11-21\", \"2020-11-22\", \"2020-11-23\", \"2020-11-24\", \"2020-11-25\", \"2020-11-26\", \"2020-11-27\", \"2020-11-28\", \"2020-11-29\", \"2020-11-30\", \"2020-12-01\", \"2020-12-02\", \"2020-12-03\", \"2020-12-04\", \"2020-12-05\", \"2020-12-06\", \"2020-12-07\", \"2020-12-08\", \"2020-12-09\", \"2020-12-10\", \"2020-12-11\", \"2020-12-12\", \"2020-12-13\", \"2020-12-14\", \"2020-12-15\", \"2020-12-16\", \"2020-12-17\", \"2020-12-18\", \"2020-12-19\", \"2020-12-20\", \"2020-12-21\", \"2020-12-22\", \"2020-12-23\", \"2020-12-24\", \"2020-12-25\", \"2020-12-26\", \"2020-12-27\", \"2020-12-28\", \"2020-12-29\", \"2020-12-30\", \"2020-12-31\", \"2021-01-01\", \"2021-01-02\", \"2021-01-03\", \"2021-01-04\", \"2021-01-05\", \"2021-01-06\", \"2021-01-07\", \"2021-01-08\", \"2021-01-09\", \"2021-01-10\", \"2021-01-11\", \"2021-01-12\", \"2021-01-13\", \"2021-01-14\", \"2021-01-15\", \"2021-01-16\", \"2021-01-17\", \"2021-01-18\", \"2021-01-19\", \"2021-01-20\", \"2021-01-21\", \"2021-01-22\", \"2021-01-23\", \"2021-01-24\", \"2021-01-25\", \"2021-01-26\", \"2021-01-27\", \"2021-01-28\", \"2021-01-29\", \"2021-01-30\", \"2021-01-31\", \"2021-02-01\", \"2021-02-02\", \"2021-02-03\", \"2021-02-04\", \"2021-02-05\", \"2021-02-06\", \"2021-02-07\", \"2021-02-08\", \"2021-02-09\", \"2021-02-10\", \"2021-02-11\", \"2021-02-12\", \"2021-02-13\", \"2021-02-14\", \"2021-02-15\", \"2021-02-16\", \"2021-02-17\", \"2021-02-18\", \"2021-02-19\", \"2021-02-20\", \"2021-02-21\", \"2021-02-22\", \"2021-02-23\", \"2021-02-24\", \"2021-02-25\", \"2021-02-26\", \"2021-02-27\", \"2021-02-28\", \"2021-03-01\", \"2021-03-02\", \"2021-03-03\", \"2021-03-04\", \"2021-03-05\", \"2021-03-06\", \"2021-03-07\", \"2021-03-08\", \"2021-03-09\", \"2021-03-10\", \"2021-03-11\", \"2021-03-12\", \"2021-03-13\", \"2021-03-14\", \"2021-03-15\", \"2021-03-16\", \"2021-03-17\", \"2021-03-18\", \"2021-03-19\", \"2021-03-20\", \"2021-03-21\", \"2021-03-22\", \"2021-03-23\", \"2021-03-24\", \"2021-03-25\", \"2021-03-26\", \"2021-03-27\", \"2021-03-28\", \"2021-03-29\", \"2021-03-30\", \"2021-03-31\", \"2021-04-01\", \"2021-04-02\", \"2021-04-03\", \"2021-04-04\", \"2021-04-05\", \"2021-04-06\", \"2021-04-07\", \"2021-04-08\", \"2021-04-09\", \"2021-04-10\", \"2021-04-11\", \"2021-04-12\", \"2021-04-13\", \"2021-04-14\", \"2021-04-15\", \"2021-04-16\", \"2021-04-17\", \"2021-04-18\", \"2021-04-19\", \"2021-04-20\", \"2021-04-21\", \"2021-04-22\", \"2021-04-23\", \"2021-04-24\", \"2021-04-25\", \"2021-04-26\", \"2021-04-27\", \"2021-04-28\", \"2021-04-29\", \"2021-04-30\", \"2021-05-01\", \"2021-05-02\", \"2021-05-03\", \"2021-05-04\", \"2021-05-05\", \"2021-05-06\", \"2021-05-07\", \"2021-05-08\", \"2021-05-09\", \"2021-05-10\", \"2021-05-11\", \"2021-05-12\", \"2021-05-13\", \"2021-05-14\", \"2021-05-15\", \"2021-05-16\", \"2021-05-17\", \"2021-05-18\", \"2021-05-19\", \"2021-05-20\", \"2021-05-21\", \"2021-05-22\", \"2021-05-23\", \"2021-05-24\", \"2021-05-25\", \"2021-05-26\", \"2021-05-27\", \"2021-05-28\", \"2021-05-29\", \"2021-05-30\", \"2021-05-31\", \"2021-06-01\", \"2021-06-02\", \"2021-06-03\", \"2021-06-04\", \"2021-06-05\", \"2021-06-06\", \"2021-06-07\", \"2021-06-08\"], \"y\": [0, 0, 0, 0, 0, 0, 0, 0, 0, 0, 0, 0, 1, 1, 1, 1, 1, 1, 1, 1, 1, 2, 4, 4, 4, 6, 6, 6, 6, 6, 8, 8, 19, 21, 21, 44, 44, 50, 58, 81, 118, 180, 283, 365, 411, 457, 635, 662, 752, 866, 960, 1020, 1101, 1168, 1210, 1258, 1312, 1341, 1379, 1409, 1485, 1516, 1547, 1605, 1824, 1959, 2051, 2134, 2176, 2240, 2599, 3538, 4172, 4406, 4895, 5882, 6282, 7128, 7491, 8324, 8731, 9342, 9909, 10548, 11313, 12000, 12757, 13170, 13706, 14316, 14902, 15762, 16395, 16999, 17527, 18325, 19333, 20705, 22047, 23409, 24547, 25344, 26782, 27624, 28641, 30271, 31316, 32754, 34112, 35339, 37763, 39999, 41357, 44094, 45537, 47749, 50074, 52926, 56021, 58378, 60592, 62778, 66571, 71116, 74167, 78161, 82324, 85915, 89532, 92567, 97310, 102310, 107416, 110807, 113856, 117915, 121776, 126670, 131583, 136793, 143297, 151055, 156526, 162249, 166956, 172883, 178178, 183956, 190966, 196483, 202283, 208784, 214815, 221087, 227575, 232618, 238638, 244675, 250680, 256313, 261459, 267015, 272251, 278270, 283937, 289787, 296171, 301913, 307677, 313280, 319327, 325456, 332454, 338060, 343930, 349682, 355727, 362133, 368141, 374172, 380063, 386173, 392507, 398366, 404186, 410116, 416715, 423231, 429416, 435422, 441649, 447366, 453165, 458900, 464668, 470192, 475717, 481273, 486479, 491971, 497377, 502740, 508210, 513836, 519448, 525154, 530708, 536209, 541819, 547335, 552938, 558534, 564092, 569664, 575212, 580736, 586454, 591811, 597033, 602038, 607203, 612320, 617403, 622458, 627703, 632708, 637637, 642152, 646555, 650856, 655170, 659432, 663456, 667475, 671489, 675518, 679377, 683464, 687388, 691236, 694880, 698820, 701527, 704031, 706444, 708846, 711198, 713584, 715892, 718129, 720339, 722686, 725258, 727752, 730272, 732656, 734970, 737281, 739532, 741705, 743838, 745848, 747752, 749662, 751535, 753332, 754826, 756279, 757750, 759206, 760617, 762015, 763428, 764854, 766261, 767759, 769048, 770378, 771693, 772995, 774306, 775602, 776878, 778081, 779291, 780531, 781745, 782915, 784117, 785315, 786472, 787611, 788742, 789862, 790965, 792063, 793154, 794228, 795293, 796353, 797391, 798420, 799427, 800429, 801414, 802385, 803328, 804239, 805136, 806018, 806875, 807744, 808571, 809392, 810218, 811023, 811798, 812568, 813326, 814098, 814811, 815516, 816205, 816878, 817520, 818147, 818742, 819306, 819850, 820381, 820907, 821430, 821947, 822468, 823001, 823518, 824024, 824527, 825025, 825520, 826011, 826504, 826994, 827480, 827962, 828441, 828918, 829388, 829850, 830320, 830787, 831246, 831706, 832167, 832620, 833089, 833560, 834043, 834534, 835024, 835506, 835979, 836473, 836963, 837525, 838085, 838606, 839138, 839648, 839648, 840180, 841250, 841762, 842309, 842862, 843423, 843999, 844568, 845178, 845812, 846480, 847139, 848041, 849064, 850091, 851222, 852463, 853733, 855085, 856548, 858075, 859709, 861424, 863258, 865071, 866913, 868722, 870546, 872415, 874305, 876257, 878571, 880910, 884199, 887663, 891839, 896759, 902022, 907947, 914119, 920369, 927440, 934966, 943044, 952186, 963251, 976876, 990919, 1006033, 1021575, 1037582, 1054746, 1072322, 1090338, 1109450, 1129512, 1151058, 1173439, 1196549, 1220064, 1240968, 1260150, 1279658, 1298945, 1318982, 1339887, 1361204, 1381690, 1403052, 1426915, 1452283, 1476761, 1502537, 1527733, 1554759, 1583504, 1613221, 1643284, 1674539, 1706298, 1739280, 1770503, 1802176, 1834439, 1866660, 1900306, 1932778, 1965939, 1997299]}, {\"name\": \"Death_Rate\", \"type\": \"scatter\", \"x\": [\"2020-03-07\", \"2020-03-08\", \"2020-03-09\", \"2020-03-10\", \"2020-03-11\", \"2020-03-12\", \"2020-03-13\", \"2020-03-14\", \"2020-03-15\", \"2020-03-16\", \"2020-03-17\", \"2020-03-18\", \"2020-03-19\", \"2020-03-20\", \"2020-03-21\", \"2020-03-22\", \"2020-03-23\", \"2020-03-24\", \"2020-03-25\", \"2020-03-26\", \"2020-03-27\", \"2020-03-28\", \"2020-03-29\", \"2020-03-30\", \"2020-03-31\", \"2020-04-01\", \"2020-04-02\", \"2020-04-03\", \"2020-04-04\", \"2020-04-05\", \"2020-04-06\", \"2020-04-07\", \"2020-04-08\", \"2020-04-09\", \"2020-04-10\", \"2020-04-11\", \"2020-04-12\", \"2020-04-13\", \"2020-04-14\", \"2020-04-15\", \"2020-04-16\", \"2020-04-17\", \"2020-04-18\", \"2020-04-19\", \"2020-04-20\", \"2020-04-21\", \"2020-04-22\", \"2020-04-23\", \"2020-04-24\", \"2020-04-25\", \"2020-04-26\", \"2020-04-27\", \"2020-04-28\", \"2020-04-29\", \"2020-04-30\", \"2020-05-01\", \"2020-05-02\", \"2020-05-03\", \"2020-05-04\", \"2020-05-05\", \"2020-05-06\", \"2020-05-07\", \"2020-05-08\", \"2020-05-09\", \"2020-05-10\", \"2020-05-11\", \"2020-05-12\", \"2020-05-13\", \"2020-05-14\", \"2020-05-15\", \"2020-05-16\", \"2020-05-17\", \"2020-05-18\", \"2020-05-19\", \"2020-05-20\", \"2020-05-21\", \"2020-05-22\", \"2020-05-23\", \"2020-05-24\", \"2020-05-25\", \"2020-05-26\", \"2020-05-27\", \"2020-05-28\", \"2020-05-29\", \"2020-05-30\", \"2020-05-31\", \"2020-06-01\", \"2020-06-02\", \"2020-06-03\", \"2020-06-04\", \"2020-06-05\", \"2020-06-06\", \"2020-06-07\", \"2020-06-08\", \"2020-06-09\", \"2020-06-10\", \"2020-06-11\", \"2020-06-12\", \"2020-06-13\", \"2020-06-14\", \"2020-06-15\", \"2020-06-16\", \"2020-06-17\", \"2020-06-18\", \"2020-06-19\", \"2020-06-20\", \"2020-06-21\", \"2020-06-22\", \"2020-06-23\", \"2020-06-24\", \"2020-06-25\", \"2020-06-26\", \"2020-06-27\", \"2020-06-28\", \"2020-06-29\", \"2020-06-30\", \"2020-07-01\", \"2020-07-02\", \"2020-07-03\", \"2020-07-04\", \"2020-07-05\", \"2020-07-06\", \"2020-07-07\", \"2020-07-08\", \"2020-07-09\", \"2020-07-10\", \"2020-07-11\", \"2020-07-12\", \"2020-07-13\", \"2020-07-14\", \"2020-07-15\", \"2020-07-16\", \"2020-07-17\", \"2020-07-18\", \"2020-07-19\", \"2020-07-20\", \"2020-07-21\", \"2020-07-22\", \"2020-07-23\", \"2020-07-24\", \"2020-07-25\", \"2020-07-26\", \"2020-07-27\", \"2020-07-28\", \"2020-07-29\", \"2020-07-30\", \"2020-07-31\", \"2020-08-01\", \"2020-08-02\", \"2020-08-03\", \"2020-08-04\", \"2020-08-05\", \"2020-08-06\", \"2020-08-07\", \"2020-08-08\", \"2020-08-09\", \"2020-08-10\", \"2020-08-11\", \"2020-08-12\", \"2020-08-13\", \"2020-08-14\", \"2020-08-15\", \"2020-08-16\", \"2020-08-17\", \"2020-08-18\", \"2020-08-19\", \"2020-08-20\", \"2020-08-21\", \"2020-08-22\", \"2020-08-23\", \"2020-08-24\", \"2020-08-25\", \"2020-08-26\", \"2020-08-27\", \"2020-08-28\", \"2020-08-29\", \"2020-08-30\", \"2020-08-31\", \"2020-09-01\", \"2020-09-02\", \"2020-09-03\", \"2020-09-04\", \"2020-09-05\", \"2020-09-06\", \"2020-09-07\", \"2020-09-08\", \"2020-09-09\", \"2020-09-10\", \"2020-09-11\", \"2020-09-12\", \"2020-09-13\", \"2020-09-14\", \"2020-09-15\", \"2020-09-16\", \"2020-09-17\", \"2020-09-18\", \"2020-09-19\", \"2020-09-20\", \"2020-09-21\", \"2020-09-22\", \"2020-09-23\", \"2020-09-24\", \"2020-09-25\", \"2020-09-26\", \"2020-09-27\", \"2020-09-28\", \"2020-09-29\", \"2020-09-30\", \"2020-10-01\", \"2020-10-02\", \"2020-10-03\", \"2020-10-04\", \"2020-10-05\", \"2020-10-06\", \"2020-10-07\", \"2020-10-08\", \"2020-10-09\", \"2020-10-10\", \"2020-10-11\", \"2020-10-12\", \"2020-10-13\", \"2020-10-14\", \"2020-10-15\", \"2020-10-16\", \"2020-10-17\", \"2020-10-18\", \"2020-10-19\", \"2020-10-20\", \"2020-10-21\", \"2020-10-22\", \"2020-10-23\", \"2020-10-24\", \"2020-10-25\", \"2020-10-26\", \"2020-10-27\", \"2020-10-28\", \"2020-10-29\", \"2020-10-30\", \"2020-10-31\", \"2020-11-01\", \"2020-11-02\", \"2020-11-03\", \"2020-11-04\", \"2020-11-05\", \"2020-11-06\", \"2020-11-07\", \"2020-11-08\", \"2020-11-09\", \"2020-11-10\", \"2020-11-11\", \"2020-11-12\", \"2020-11-13\", \"2020-11-14\", \"2020-11-15\", \"2020-11-16\", \"2020-11-17\", \"2020-11-18\", \"2020-11-19\", \"2020-11-20\", \"2020-11-21\", \"2020-11-22\", \"2020-11-23\", \"2020-11-24\", \"2020-11-25\", \"2020-11-26\", \"2020-11-27\", \"2020-11-28\", \"2020-11-29\", \"2020-11-30\", \"2020-12-01\", \"2020-12-02\", \"2020-12-03\", \"2020-12-04\", \"2020-12-05\", \"2020-12-06\", \"2020-12-07\", \"2020-12-08\", \"2020-12-09\", \"2020-12-10\", \"2020-12-11\", \"2020-12-12\", \"2020-12-13\", \"2020-12-14\", \"2020-12-15\", \"2020-12-16\", \"2020-12-17\", \"2020-12-18\", \"2020-12-19\", \"2020-12-20\", \"2020-12-21\", \"2020-12-22\", \"2020-12-23\", \"2020-12-24\", \"2020-12-25\", \"2020-12-26\", \"2020-12-27\", \"2020-12-28\", \"2020-12-29\", \"2020-12-30\", \"2020-12-31\", \"2021-01-01\", \"2021-01-02\", \"2021-01-03\", \"2021-01-04\", \"2021-01-05\", \"2021-01-06\", \"2021-01-07\", \"2021-01-08\", \"2021-01-09\", \"2021-01-10\", \"2021-01-11\", \"2021-01-12\", \"2021-01-13\", \"2021-01-14\", \"2021-01-15\", \"2021-01-16\", \"2021-01-17\", \"2021-01-18\", \"2021-01-19\", \"2021-01-20\", \"2021-01-21\", \"2021-01-22\", \"2021-01-23\", \"2021-01-24\", \"2021-01-25\", \"2021-01-26\", \"2021-01-27\", \"2021-01-28\", \"2021-01-29\", \"2021-01-30\", \"2021-01-31\", \"2021-02-01\", \"2021-02-02\", \"2021-02-03\", \"2021-02-04\", \"2021-02-05\", \"2021-02-06\", \"2021-02-07\", \"2021-02-08\", \"2021-02-09\", \"2021-02-10\", \"2021-02-11\", \"2021-02-12\", \"2021-02-13\", \"2021-02-14\", \"2021-02-15\", \"2021-02-16\", \"2021-02-17\", \"2021-02-18\", \"2021-02-19\", \"2021-02-20\", \"2021-02-21\", \"2021-02-22\", \"2021-02-23\", \"2021-02-24\", \"2021-02-25\", \"2021-02-26\", \"2021-02-27\", \"2021-02-28\", \"2021-03-01\", \"2021-03-02\", \"2021-03-03\", \"2021-03-04\", \"2021-03-05\", \"2021-03-06\", \"2021-03-07\", \"2021-03-08\", \"2021-03-09\", \"2021-03-10\", \"2021-03-11\", \"2021-03-12\", \"2021-03-13\", \"2021-03-14\", \"2021-03-15\", \"2021-03-16\", \"2021-03-17\", \"2021-03-18\", \"2021-03-19\", \"2021-03-20\", \"2021-03-21\", \"2021-03-22\", \"2021-03-23\", \"2021-03-24\", \"2021-03-25\", \"2021-03-26\", \"2021-03-27\", \"2021-03-28\", \"2021-03-29\", \"2021-03-30\", \"2021-03-31\", \"2021-04-01\", \"2021-04-02\", \"2021-04-03\", \"2021-04-04\", \"2021-04-05\", \"2021-04-06\", \"2021-04-07\", \"2021-04-08\", \"2021-04-09\", \"2021-04-10\", \"2021-04-11\", \"2021-04-12\", \"2021-04-13\", \"2021-04-14\", \"2021-04-15\", \"2021-04-16\", \"2021-04-17\", \"2021-04-18\", \"2021-04-19\", \"2021-04-20\", \"2021-04-21\", \"2021-04-22\", \"2021-04-23\", \"2021-04-24\", \"2021-04-25\", \"2021-04-26\", \"2021-04-27\", \"2021-04-28\", \"2021-04-29\", \"2021-04-30\", \"2021-05-01\", \"2021-05-02\", \"2021-05-03\", \"2021-05-04\", \"2021-05-05\", \"2021-05-06\", \"2021-05-07\", \"2021-05-08\", \"2021-05-09\", \"2021-05-10\", \"2021-05-11\", \"2021-05-12\", \"2021-05-13\", \"2021-05-14\", \"2021-05-15\", \"2021-05-16\", \"2021-05-17\", \"2021-05-18\", \"2021-05-19\", \"2021-05-20\", \"2021-05-21\", \"2021-05-22\", \"2021-05-23\", \"2021-05-24\", \"2021-05-25\", \"2021-05-26\", \"2021-05-27\", \"2021-05-28\", \"2021-05-29\", \"2021-05-30\", \"2021-05-31\", \"2021-06-01\", \"2021-06-02\", \"2021-06-03\", \"2021-06-04\", \"2021-06-05\", \"2021-06-06\", \"2021-06-07\", \"2021-06-08\"], \"y\": [0, 0, 0, 0, 0, 0, 0, 0, 0, 0, 0, 0, 0, 0, 0, 0, 0, 0, 0, 1, 1, 1, 1, 1, 1, 1, 1, 1, 2, 3, 5, 5, 7, 8, 8, 8, 10, 11, 11, 12, 14, 15, 15, 15, 15, 17, 18, 18, 20, 22, 23, 24, 24, 25, 27, 27, 28, 29, 30, 31, 33, 35, 37, 40, 44, 47, 53, 61, 64, 66, 71, 74, 78, 81, 84, 87, 94, 98, 103, 111, 118, 127, 133, 145, 154, 160, 173, 184, 197, 208, 220, 232, 251, 269, 286, 307, 326, 349, 367, 397, 435, 479, 528, 576, 625, 666, 704, 757, 794, 833, 866, 911, 957, 1025, 1079, 1141, 1201, 1264, 1321, 1385, 1450, 1510, 1571, 1636, 1700, 1765, 1829, 1898, 1966, 2032, 2099, 2167, 2236, 2315, 2403, 2481, 2551, 2626, 3144, 3232, 3320, 3409, 3494, 3571, 3659, 3741, 3838, 3935, 4034, 4132, 4241, 4349, 4461, 4571, 4690, 4808, 4927, 5041, 5159, 5278, 5397, 5514, 5641, 5766, 5886, 6007, 6123, 6239, 6340, 6420, 6517, 6614, 6721, 6839, 6948, 7050, 7137, 7231, 7322, 7418, 7516, 7608, 7687, 7748, 7836, 7925, 8012, 8090, 8154, 8231, 8307, 8381, 8434, 8502, 8559, 8618, 8685, 8751, 8811, 8871, 8947, 9010, 9076, 9148, 9233, 9313, 9383, 9453, 9520, 9586, 9653, 9718, 9784, 9846, 9917, 9984, 10052, 10120, 10187, 10252, 10314, 10371, 10423, 10472, 10529, 10586, 10642, 10691, 10741, 10780, 10825, 10858, 10893, 10924, 10956, 10983, 11018, 11053, 11091, 11122, 11152, 11183, 11214, 11244, 11272, 11299, 11324, 11344, 11362, 11387, 11415, 11440, 11454, 11466, 11478, 11495, 11513, 11531, 11550, 11568, 11586, 11605, 11622, 11639, 11655, 11669, 11681, 11694, 11703, 11712, 11722, 11733, 11747, 11762, 11777, 11793, 11809, 11822, 11836, 11853, 11870, 11883, 11895, 11909, 11919, 11931, 11942, 11954, 11968, 11983, 11995, 12012, 12024, 12036, 12048, 12059, 12069, 12080, 12092, 12109, 12122, 12135, 12146, 12156, 12166, 12177, 12188, 12200, 12208, 12215, 12222, 12228, 12236, 12242, 12246, 12251, 12257, 12264, 12272, 12281, 12290, 12299, 12307, 12309, 12316, 12320, 12325, 12333, 12339, 12345, 12350, 12356, 12363, 12367, 12371, 12375, 12379, 12382, 12383, 12387, 12391, 12396, 12402, 12408, 12413, 12419, 12425, 12432, 12438, 12444, 12451, 12457, 12460, 12466, 12472, 12478, 12483, 12488, 12493, 12496, 12501, 12502, 12504, 12508, 12513, 12517, 12518, 12521, 12525, 12525, 12530, 12539, 12543, 12547, 12551, 12556, 12564, 12573, 12582, 12590, 12599, 12609, 12618, 12630, 12641, 12650, 12659, 12670, 12684, 12700, 12719, 12738, 12750, 12764, 12778, 12789, 12804, 12821, 12840, 12863, 12886, 12908, 12927, 12945, 12970, 12999, 13032, 13071, 13113, 13157, 13205, 13258, 13317, 13395, 13475, 13557, 13651, 13728, 13826, 13933, 14046, 14193, 14346, 14468, 14612, 14779, 14974, 15171, 15412, 15648, 15880, 16178, 16471, 16768, 17056, 17359, 17670, 18005, 18369, 18734, 19131, 19598, 20046, 20468, 20872, 21340, 21815, 22289, 22775, 23261, 23754, 24232, 24722, 25205, 25665, 26128, 26571, 27005, 27356]}],\n",
              "                        {\"template\": {\"data\": {\"bar\": [{\"error_x\": {\"color\": \"#2a3f5f\"}, \"error_y\": {\"color\": \"#2a3f5f\"}, \"marker\": {\"line\": {\"color\": \"#E5ECF6\", \"width\": 0.5}}, \"type\": \"bar\"}], \"barpolar\": [{\"marker\": {\"line\": {\"color\": \"#E5ECF6\", \"width\": 0.5}}, \"type\": \"barpolar\"}], \"carpet\": [{\"aaxis\": {\"endlinecolor\": \"#2a3f5f\", \"gridcolor\": \"white\", \"linecolor\": \"white\", \"minorgridcolor\": \"white\", \"startlinecolor\": \"#2a3f5f\"}, \"baxis\": {\"endlinecolor\": \"#2a3f5f\", \"gridcolor\": \"white\", \"linecolor\": \"white\", \"minorgridcolor\": \"white\", \"startlinecolor\": \"#2a3f5f\"}, \"type\": \"carpet\"}], \"choropleth\": [{\"colorbar\": {\"outlinewidth\": 0, \"ticks\": \"\"}, \"type\": \"choropleth\"}], \"contour\": [{\"colorbar\": {\"outlinewidth\": 0, \"ticks\": \"\"}, \"colorscale\": [[0.0, \"#0d0887\"], [0.1111111111111111, \"#46039f\"], [0.2222222222222222, \"#7201a8\"], [0.3333333333333333, \"#9c179e\"], [0.4444444444444444, \"#bd3786\"], [0.5555555555555556, \"#d8576b\"], [0.6666666666666666, \"#ed7953\"], [0.7777777777777778, \"#fb9f3a\"], [0.8888888888888888, \"#fdca26\"], [1.0, \"#f0f921\"]], \"type\": \"contour\"}], \"contourcarpet\": [{\"colorbar\": {\"outlinewidth\": 0, \"ticks\": \"\"}, \"type\": \"contourcarpet\"}], \"heatmap\": [{\"colorbar\": {\"outlinewidth\": 0, \"ticks\": \"\"}, \"colorscale\": [[0.0, \"#0d0887\"], [0.1111111111111111, \"#46039f\"], [0.2222222222222222, \"#7201a8\"], [0.3333333333333333, \"#9c179e\"], [0.4444444444444444, \"#bd3786\"], [0.5555555555555556, \"#d8576b\"], [0.6666666666666666, \"#ed7953\"], [0.7777777777777778, \"#fb9f3a\"], [0.8888888888888888, \"#fdca26\"], [1.0, \"#f0f921\"]], \"type\": \"heatmap\"}], \"heatmapgl\": [{\"colorbar\": {\"outlinewidth\": 0, \"ticks\": \"\"}, \"colorscale\": [[0.0, \"#0d0887\"], [0.1111111111111111, \"#46039f\"], [0.2222222222222222, \"#7201a8\"], [0.3333333333333333, \"#9c179e\"], [0.4444444444444444, \"#bd3786\"], [0.5555555555555556, \"#d8576b\"], [0.6666666666666666, \"#ed7953\"], [0.7777777777777778, \"#fb9f3a\"], [0.8888888888888888, \"#fdca26\"], [1.0, \"#f0f921\"]], \"type\": \"heatmapgl\"}], \"histogram\": [{\"marker\": {\"colorbar\": {\"outlinewidth\": 0, \"ticks\": \"\"}}, \"type\": \"histogram\"}], \"histogram2d\": [{\"colorbar\": {\"outlinewidth\": 0, \"ticks\": \"\"}, \"colorscale\": [[0.0, \"#0d0887\"], [0.1111111111111111, \"#46039f\"], [0.2222222222222222, \"#7201a8\"], [0.3333333333333333, \"#9c179e\"], [0.4444444444444444, \"#bd3786\"], [0.5555555555555556, \"#d8576b\"], [0.6666666666666666, \"#ed7953\"], [0.7777777777777778, \"#fb9f3a\"], [0.8888888888888888, \"#fdca26\"], [1.0, \"#f0f921\"]], \"type\": \"histogram2d\"}], \"histogram2dcontour\": [{\"colorbar\": {\"outlinewidth\": 0, \"ticks\": \"\"}, \"colorscale\": [[0.0, \"#0d0887\"], [0.1111111111111111, \"#46039f\"], [0.2222222222222222, \"#7201a8\"], [0.3333333333333333, \"#9c179e\"], [0.4444444444444444, \"#bd3786\"], [0.5555555555555556, \"#d8576b\"], [0.6666666666666666, \"#ed7953\"], [0.7777777777777778, \"#fb9f3a\"], [0.8888888888888888, \"#fdca26\"], [1.0, \"#f0f921\"]], \"type\": \"histogram2dcontour\"}], \"mesh3d\": [{\"colorbar\": {\"outlinewidth\": 0, \"ticks\": \"\"}, \"type\": \"mesh3d\"}], \"parcoords\": [{\"line\": {\"colorbar\": {\"outlinewidth\": 0, \"ticks\": \"\"}}, \"type\": \"parcoords\"}], \"pie\": [{\"automargin\": true, \"type\": \"pie\"}], \"scatter\": [{\"marker\": {\"colorbar\": {\"outlinewidth\": 0, \"ticks\": \"\"}}, \"type\": \"scatter\"}], \"scatter3d\": [{\"line\": {\"colorbar\": {\"outlinewidth\": 0, \"ticks\": \"\"}}, \"marker\": {\"colorbar\": {\"outlinewidth\": 0, \"ticks\": \"\"}}, \"type\": \"scatter3d\"}], \"scattercarpet\": [{\"marker\": {\"colorbar\": {\"outlinewidth\": 0, \"ticks\": \"\"}}, \"type\": \"scattercarpet\"}], \"scattergeo\": [{\"marker\": {\"colorbar\": {\"outlinewidth\": 0, \"ticks\": \"\"}}, \"type\": \"scattergeo\"}], \"scattergl\": [{\"marker\": {\"colorbar\": {\"outlinewidth\": 0, \"ticks\": \"\"}}, \"type\": \"scattergl\"}], \"scattermapbox\": [{\"marker\": {\"colorbar\": {\"outlinewidth\": 0, \"ticks\": \"\"}}, \"type\": \"scattermapbox\"}], \"scatterpolar\": [{\"marker\": {\"colorbar\": {\"outlinewidth\": 0, \"ticks\": \"\"}}, \"type\": \"scatterpolar\"}], \"scatterpolargl\": [{\"marker\": {\"colorbar\": {\"outlinewidth\": 0, \"ticks\": \"\"}}, \"type\": \"scatterpolargl\"}], \"scatterternary\": [{\"marker\": {\"colorbar\": {\"outlinewidth\": 0, \"ticks\": \"\"}}, \"type\": \"scatterternary\"}], \"surface\": [{\"colorbar\": {\"outlinewidth\": 0, \"ticks\": \"\"}, \"colorscale\": [[0.0, \"#0d0887\"], [0.1111111111111111, \"#46039f\"], [0.2222222222222222, \"#7201a8\"], [0.3333333333333333, \"#9c179e\"], [0.4444444444444444, \"#bd3786\"], [0.5555555555555556, \"#d8576b\"], [0.6666666666666666, \"#ed7953\"], [0.7777777777777778, \"#fb9f3a\"], [0.8888888888888888, \"#fdca26\"], [1.0, \"#f0f921\"]], \"type\": \"surface\"}], \"table\": [{\"cells\": {\"fill\": {\"color\": \"#EBF0F8\"}, \"line\": {\"color\": \"white\"}}, \"header\": {\"fill\": {\"color\": \"#C8D4E3\"}, \"line\": {\"color\": \"white\"}}, \"type\": \"table\"}]}, \"layout\": {\"annotationdefaults\": {\"arrowcolor\": \"#2a3f5f\", \"arrowhead\": 0, \"arrowwidth\": 1}, \"coloraxis\": {\"colorbar\": {\"outlinewidth\": 0, \"ticks\": \"\"}}, \"colorscale\": {\"diverging\": [[0, \"#8e0152\"], [0.1, \"#c51b7d\"], [0.2, \"#de77ae\"], [0.3, \"#f1b6da\"], [0.4, \"#fde0ef\"], [0.5, \"#f7f7f7\"], [0.6, \"#e6f5d0\"], [0.7, \"#b8e186\"], [0.8, \"#7fbc41\"], [0.9, \"#4d9221\"], [1, \"#276419\"]], \"sequential\": [[0.0, \"#0d0887\"], [0.1111111111111111, \"#46039f\"], [0.2222222222222222, \"#7201a8\"], [0.3333333333333333, \"#9c179e\"], [0.4444444444444444, \"#bd3786\"], [0.5555555555555556, \"#d8576b\"], [0.6666666666666666, \"#ed7953\"], [0.7777777777777778, \"#fb9f3a\"], [0.8888888888888888, \"#fdca26\"], [1.0, \"#f0f921\"]], \"sequentialminus\": [[0.0, \"#0d0887\"], [0.1111111111111111, \"#46039f\"], [0.2222222222222222, \"#7201a8\"], [0.3333333333333333, \"#9c179e\"], [0.4444444444444444, \"#bd3786\"], [0.5555555555555556, \"#d8576b\"], [0.6666666666666666, \"#ed7953\"], [0.7777777777777778, \"#fb9f3a\"], [0.8888888888888888, \"#fdca26\"], [1.0, \"#f0f921\"]]}, \"colorway\": [\"#636efa\", \"#EF553B\", \"#00cc96\", \"#ab63fa\", \"#FFA15A\", \"#19d3f3\", \"#FF6692\", \"#B6E880\", \"#FF97FF\", \"#FECB52\"], \"font\": {\"color\": \"#2a3f5f\"}, \"geo\": {\"bgcolor\": \"white\", \"lakecolor\": \"white\", \"landcolor\": \"#E5ECF6\", \"showlakes\": true, \"showland\": true, \"subunitcolor\": \"white\"}, \"hoverlabel\": {\"align\": \"left\"}, \"hovermode\": \"closest\", \"mapbox\": {\"style\": \"light\"}, \"paper_bgcolor\": \"white\", \"plot_bgcolor\": \"#E5ECF6\", \"polar\": {\"angularaxis\": {\"gridcolor\": \"white\", \"linecolor\": \"white\", \"ticks\": \"\"}, \"bgcolor\": \"#E5ECF6\", \"radialaxis\": {\"gridcolor\": \"white\", \"linecolor\": \"white\", \"ticks\": \"\"}}, \"scene\": {\"xaxis\": {\"backgroundcolor\": \"#E5ECF6\", \"gridcolor\": \"white\", \"gridwidth\": 2, \"linecolor\": \"white\", \"showbackground\": true, \"ticks\": \"\", \"zerolinecolor\": \"white\"}, \"yaxis\": {\"backgroundcolor\": \"#E5ECF6\", \"gridcolor\": \"white\", \"gridwidth\": 2, \"linecolor\": \"white\", \"showbackground\": true, \"ticks\": \"\", \"zerolinecolor\": \"white\"}, \"zaxis\": {\"backgroundcolor\": \"#E5ECF6\", \"gridcolor\": \"white\", \"gridwidth\": 2, \"linecolor\": \"white\", \"showbackground\": true, \"ticks\": \"\", \"zerolinecolor\": \"white\"}}, \"shapedefaults\": {\"line\": {\"color\": \"#2a3f5f\"}}, \"ternary\": {\"aaxis\": {\"gridcolor\": \"white\", \"linecolor\": \"white\", \"ticks\": \"\"}, \"baxis\": {\"gridcolor\": \"white\", \"linecolor\": \"white\", \"ticks\": \"\"}, \"bgcolor\": \"#E5ECF6\", \"caxis\": {\"gridcolor\": \"white\", \"linecolor\": \"white\", \"ticks\": \"\"}}, \"title\": {\"x\": 0.05}, \"xaxis\": {\"automargin\": true, \"gridcolor\": \"white\", \"linecolor\": \"white\", \"ticks\": \"\", \"title\": {\"standoff\": 15}, \"zerolinecolor\": \"white\", \"zerolinewidth\": 2}, \"yaxis\": {\"automargin\": true, \"gridcolor\": \"white\", \"linecolor\": \"white\", \"ticks\": \"\", \"title\": {\"standoff\": 15}, \"zerolinecolor\": \"white\", \"zerolinewidth\": 2}}}},\n",
              "                        {\"responsive\": true}\n",
              "                    ).then(function(){\n",
              "                            \n",
              "var gd = document.getElementById('86fc1949-fb92-4087-a438-6dbde8cca956');\n",
              "var x = new MutationObserver(function (mutations, observer) {{\n",
              "        var display = window.getComputedStyle(gd).display;\n",
              "        if (!display || display === 'none') {{\n",
              "            console.log([gd, 'removed!']);\n",
              "            Plotly.purge(gd);\n",
              "            observer.disconnect();\n",
              "        }}\n",
              "}});\n",
              "\n",
              "// Listen for the removal of the full notebook cells\n",
              "var notebookContainer = gd.closest('#notebook-container');\n",
              "if (notebookContainer) {{\n",
              "    x.observe(notebookContainer, {childList: true});\n",
              "}}\n",
              "\n",
              "// Listen for the clearing of the current output cell\n",
              "var outputEl = gd.closest('.output');\n",
              "if (outputEl) {{\n",
              "    x.observe(outputEl, {childList: true});\n",
              "}}\n",
              "\n",
              "                        })\n",
              "                };\n",
              "                \n",
              "            </script>\n",
              "        </div>\n",
              "</body>\n",
              "</html>"
            ]
          },
          "metadata": {
            "tags": []
          }
        }
      ]
    },
    {
      "cell_type": "code",
      "metadata": {
        "id": "wrCFAvZck5BY"
      },
      "source": [
        " df1=df[['Confirmed']]"
      ],
      "execution_count": 18,
      "outputs": []
    },
    {
      "cell_type": "code",
      "metadata": {
        "id": "jZolhajEmPSD"
      },
      "source": [
        "df1=df1.values"
      ],
      "execution_count": 19,
      "outputs": []
    },
    {
      "cell_type": "code",
      "metadata": {
        "colab": {
          "base_uri": "https://localhost:8080/"
        },
        "id": "u_V3Mu2kIwbE",
        "outputId": "bb24a1bd-a794-43a4-d816-9196b56d1532"
      },
      "source": [
        "type(df1)"
      ],
      "execution_count": 26,
      "outputs": [
        {
          "output_type": "execute_result",
          "data": {
            "text/plain": [
              "numpy.ndarray"
            ]
          },
          "metadata": {
            "tags": []
          },
          "execution_count": 26
        }
      ]
    },
    {
      "cell_type": "code",
      "metadata": {
        "id": "m3RTyLLJmQBi"
      },
      "source": [
        "train_size=int(len(df1)*0.80)  \n",
        "test_size= len(df1)-train_size"
      ],
      "execution_count": 27,
      "outputs": []
    },
    {
      "cell_type": "code",
      "metadata": {
        "id": "bbz57qkwnJTa"
      },
      "source": [
        "train,test=df1[0:train_size,:],df1[train_size:len(df1),:]"
      ],
      "execution_count": 28,
      "outputs": []
    },
    {
      "cell_type": "code",
      "metadata": {
        "id": "KR-8dMubnJWL"
      },
      "source": [
        "def create_dataset(dataset,look_back=1):\n",
        "  datax,datay=[],[]\n",
        "  for i in range(len(dataset)-look_back-1):\n",
        "    a=dataset[i:(i+look_back),0]\n",
        "    datax.append(a)\n",
        "    datay.append(dataset[i+look_back,0])\n",
        "  return np.array(datax),np.array(datay)\n"
      ],
      "execution_count": 40,
      "outputs": []
    },
    {
      "cell_type": "code",
      "metadata": {
        "id": "IuOZsWPinJYs"
      },
      "source": [
        "look_back=2\n",
        "trainx,trainy=create_dataset(train,look_back=look_back)\n",
        "testx,testy=create_dataset(test,look_back=look_back)"
      ],
      "execution_count": 42,
      "outputs": []
    },
    {
      "cell_type": "code",
      "metadata": {
        "id": "P-hx3AaKnJc5"
      },
      "source": [
        "from sklearn.linear_model import LinearRegression"
      ],
      "execution_count": 37,
      "outputs": []
    },
    {
      "cell_type": "code",
      "metadata": {
        "id": "h2okyl8gnJf_"
      },
      "source": [
        "model=LinearRegression()"
      ],
      "execution_count": 43,
      "outputs": []
    },
    {
      "cell_type": "code",
      "metadata": {
        "colab": {
          "base_uri": "https://localhost:8080/"
        },
        "id": "b58MhmyUWp8U",
        "outputId": "8802ff31-b760-48db-9ee8-ed0c2f603ae8"
      },
      "source": [
        "model.fit(trainx,trainy)"
      ],
      "execution_count": 44,
      "outputs": [
        {
          "output_type": "execute_result",
          "data": {
            "text/plain": [
              "LinearRegression(copy_X=True, fit_intercept=True, n_jobs=None, normalize=False)"
            ]
          },
          "metadata": {
            "tags": []
          },
          "execution_count": 44
        }
      ]
    },
    {
      "cell_type": "code",
      "metadata": {
        "colab": {
          "base_uri": "https://localhost:8080/"
        },
        "id": "GcokthgyrSw1",
        "outputId": "d1047637-616c-4e33-99a0-9f61d343414d"
      },
      "source": [
        "trainx"
      ],
      "execution_count": 45,
      "outputs": [
        {
          "output_type": "execute_result",
          "data": {
            "text/plain": [
              "array([[     1,      1],\n",
              "       [     1,      1],\n",
              "       [     1,      1],\n",
              "       [     1,      1],\n",
              "       [     1,      1],\n",
              "       [     1,      1],\n",
              "       [     1,      1],\n",
              "       [     1,      1],\n",
              "       [     1,      1],\n",
              "       [     1,      1],\n",
              "       [     1,      1],\n",
              "       [     1,      2],\n",
              "       [     2,      3],\n",
              "       [     3,      3],\n",
              "       [     3,      7],\n",
              "       [     7,      9],\n",
              "       [     9,     15],\n",
              "       [    15,     18],\n",
              "       [    18,     26],\n",
              "       [    26,     29],\n",
              "       [    29,     40],\n",
              "       [    40,     49],\n",
              "       [    49,     67],\n",
              "       [    67,     74],\n",
              "       [    74,    234],\n",
              "       [   234,    234],\n",
              "       [   234,    309],\n",
              "       [   309,    411],\n",
              "       [   411,    485],\n",
              "       [   485,    571],\n",
              "       [   571,    621],\n",
              "       [   621,    690],\n",
              "       [   690,    738],\n",
              "       [   738,    834],\n",
              "       [   834,    911],\n",
              "       [   911,    969],\n",
              "       [   969,   1075],\n",
              "       [  1075,   1173],\n",
              "       [  1173,   1204],\n",
              "       [  1204,   1242],\n",
              "       [  1242,   1267],\n",
              "       [  1267,   1323],\n",
              "       [  1323,   1372],\n",
              "       [  1372,   1477],\n",
              "       [  1477,   1520],\n",
              "       [  1520,   1596],\n",
              "       [  1596,   1629],\n",
              "       [  1629,   1683],\n",
              "       [  1683,   1755],\n",
              "       [  1755,   1821],\n",
              "       [  1821,   1885],\n",
              "       [  1885,   1937],\n",
              "       [  1937,   2058],\n",
              "       [  2058,   2162],\n",
              "       [  2162,   2323],\n",
              "       [  2323,   2526],\n",
              "       [  2526,   2757],\n",
              "       [  2757,   3023],\n",
              "       [  3023,   3550],\n",
              "       [  3550,   4058],\n",
              "       [  4058,   4829],\n",
              "       [  4829,   5409],\n",
              "       [  5409,   6009],\n",
              "       [  6009,   6535],\n",
              "       [  6535,   7204],\n",
              "       [  7204,   8002],\n",
              "       [  8002,   8718],\n",
              "       [  8718,   9227],\n",
              "       [  9227,   9674],\n",
              "       [  9674,  10108],\n",
              "       [ 10108,  10585],\n",
              "       [ 10585,  11224],\n",
              "       [ 11224,  11760],\n",
              "       [ 11760,  12448],\n",
              "       [ 12448,  13191],\n",
              "       [ 13191,  13967],\n",
              "       [ 13967,  14753],\n",
              "       [ 14753,  15512],\n",
              "       [ 15512,  16277],\n",
              "       [ 16277,  17082],\n",
              "       [ 17082,  17728],\n",
              "       [ 17728,  18545],\n",
              "       [ 18545,  19372],\n",
              "       [ 19372,  20246],\n",
              "       [ 20246,  21184],\n",
              "       [ 21184,  22333],\n",
              "       [ 22333,  23495],\n",
              "       [ 23495,  24586],\n",
              "       [ 24586,  25872],\n",
              "       [ 25872,  27256],\n",
              "       [ 27256,  28694],\n",
              "       [ 28694,  30152],\n",
              "       [ 30152,  31667],\n",
              "       [ 31667,  33229],\n",
              "       [ 33229,  34914],\n",
              "       [ 34914,  36841],\n",
              "       [ 36841,  38716],\n",
              "       [ 38716,  40698],\n",
              "       [ 40698,  42687],\n",
              "       [ 42687,  44661],\n",
              "       [ 44661,  46504],\n",
              "       [ 46504,  48019],\n",
              "       [ 48019,  50193],\n",
              "       [ 50193,  52334],\n",
              "       [ 52334,  54449],\n",
              "       [ 54449,  56845],\n",
              "       [ 56845,  59377],\n",
              "       [ 59377,  62087],\n",
              "       [ 62087,  64603],\n",
              "       [ 64603,  67468],\n",
              "       [ 67468,  70977],\n",
              "       [ 70977,  74622],\n",
              "       [ 74622,  78335],\n",
              "       [ 78335,  82275],\n",
              "       [ 82275,  86224],\n",
              "       [ 86224,  90167],\n",
              "       [ 90167,  94049],\n",
              "       [ 94049,  98392],\n",
              "       [ 98392, 102721],\n",
              "       [102721, 107001],\n",
              "       [107001, 111151],\n",
              "       [111151, 114978],\n",
              "       [114978, 118594],\n",
              "       [118594, 122350],\n",
              "       [122350, 126581],\n",
              "       [126581, 130261],\n",
              "       [130261, 134226],\n",
              "       [134226, 138470],\n",
              "       [138470, 142798],\n",
              "       [142798, 147324],\n",
              "       [147324, 151820],\n",
              "       [151820, 156369],\n",
              "       [156369, 160907],\n",
              "       [160907, 165714],\n",
              "       [165714, 170693],\n",
              "       [170693, 175678],\n",
              "       [175678, 180643],\n",
              "       [180643, 186492],\n",
              "       [186492, 192964],\n",
              "       [192964, 199749],\n",
              "       [199749, 206737],\n",
              "       [206737, 213723],\n",
              "       [213723, 220716],\n",
              "       [220716, 227688],\n",
              "       [227688, 234114],\n",
              "       [234114, 239978],\n",
              "       [239978, 245859],\n",
              "       [245859, 251738],\n",
              "       [251738, 257613],\n",
              "       [257613, 263222],\n",
              "       [263222, 268285],\n",
              "       [268285, 273460],\n",
              "       [273460, 279144],\n",
              "       [279144, 285024],\n",
              "       [285024, 290907],\n",
              "       [290907, 296901],\n",
              "       [296901, 302815],\n",
              "       [302815, 308649],\n",
              "       [308649, 314520],\n",
              "       [314520, 320355],\n",
              "       [320355, 326245],\n",
              "       [326245, 332105],\n",
              "       [332105, 338055],\n",
              "       [338055, 343945],\n",
              "       [343945, 349654],\n",
              "       [349654, 355449],\n",
              "       [355449, 361435],\n",
              "       [361435, 367430],\n",
              "       [367430, 373410],\n",
              "       [373410, 379385],\n",
              "       [379385, 385352],\n",
              "       [385352, 391303],\n",
              "       [391303, 397261],\n",
              "       [397261, 403242],\n",
              "       [403242, 409238],\n",
              "       [409238, 415590],\n",
              "       [415590, 422085],\n",
              "       [422085, 428041],\n",
              "       [428041, 433969],\n",
              "       [433969, 439959],\n",
              "       [439959, 445851],\n",
              "       [445851, 451827],\n",
              "       [451827, 457697],\n",
              "       [457697, 463480],\n",
              "       [463480, 469256],\n",
              "       [469256, 474940],\n",
              "       [474940, 480524],\n",
              "       [480524, 486052],\n",
              "       [486052, 491571],\n",
              "       [491571, 497066],\n",
              "       [497066, 502759],\n",
              "       [502759, 508511],\n",
              "       [508511, 514208],\n",
              "       [514208, 519860],\n",
              "       [519860, 525420],\n",
              "       [525420, 530908],\n",
              "       [530908, 536477],\n",
              "       [536477, 541993],\n",
              "       [541993, 547337],\n",
              "       [547337, 552674],\n",
              "       [552674, 557999],\n",
              "       [557999, 563691],\n",
              "       [563691, 569370],\n",
              "       [569370, 575017],\n",
              "       [575017, 580808],\n",
              "       [580808, 586397],\n",
              "       [586397, 591943],\n",
              "       [591943, 597602],\n",
              "       [597602, 603290],\n",
              "       [603290, 608885],\n",
              "       [608885, 614507],\n",
              "       [614507, 619996],\n",
              "       [619996, 625391],\n",
              "       [625391, 630408],\n",
              "       [630408, 635855],\n",
              "       [635855, 640943],\n",
              "       [640943, 646128],\n",
              "       [646128, 651370],\n",
              "       [651370, 656385],\n",
              "       [656385, 661264],\n",
              "       [661264, 665930],\n",
              "       [665930, 670392],\n",
              "       [670392, 674802],\n",
              "       [674802, 679191],\n",
              "       [679191, 683486],\n",
              "       [683486, 687400],\n",
              "       [687400, 690936],\n",
              "       [690936, 694030],\n",
              "       [694030, 697116],\n",
              "       [697116, 700193],\n",
              "       [700193, 703250],\n",
              "       [703250, 706136],\n",
              "       [706136, 709005],\n",
              "       [709005, 711713],\n",
              "       [711713, 714235],\n",
              "       [714235, 716751],\n",
              "       [716751, 719403],\n",
              "       [719403, 722011],\n",
              "       [722011, 724522],\n",
              "       [724522, 727026],\n",
              "       [727026, 729507],\n",
              "       [729507, 731942],\n",
              "       [731942, 734429],\n",
              "       [734429, 736777],\n",
              "       [736777, 739147],\n",
              "       [739147, 741488],\n",
              "       [741488, 743822],\n",
              "       [743822, 746079],\n",
              "       [746079, 748225],\n",
              "       [748225, 750409],\n",
              "       [750409, 752521],\n",
              "       [752521, 754460],\n",
              "       [754460, 756372],\n",
              "       [756372, 758191],\n",
              "       [758191, 759916],\n",
              "       [759916, 761568],\n",
              "       [761568, 763282],\n",
              "       [763282, 764989],\n",
              "       [764989, 766677],\n",
              "       [766677, 768340],\n",
              "       [768340, 769995],\n",
              "       [769995, 771619],\n",
              "       [771619, 773176],\n",
              "       [773176, 774710],\n",
              "       [774710, 776174],\n",
              "       [776174, 777616],\n",
              "       [777616, 779046],\n",
              "       [779046, 780505],\n",
              "       [780505, 781915],\n",
              "       [781915, 783319],\n",
              "       [783319, 784747],\n",
              "       [784747, 786163],\n",
              "       [786163, 787554],\n",
              "       [787554, 788920],\n",
              "       [788920, 790240],\n",
              "       [790240, 791552],\n",
              "       [791552, 792788],\n",
              "       [792788, 794020],\n",
              "       [794020, 795240],\n",
              "       [795240, 796475],\n",
              "       [796475, 797693],\n",
              "       [797693, 798888],\n",
              "       [798888, 800029],\n",
              "       [800029, 801161],\n",
              "       [801161, 802342],\n",
              "       [802342, 803516],\n",
              "       [803516, 804650],\n",
              "       [804650, 805777],\n",
              "       [805777, 806891],\n",
              "       [806891, 807962],\n",
              "       [807962, 809014],\n",
              "       [809014, 810080],\n",
              "       [810080, 811115],\n",
              "       [811115, 812142],\n",
              "       [812142, 813161],\n",
              "       [813161, 814170],\n",
              "       [814170, 815175],\n",
              "       [815175, 816132],\n",
              "       [816132, 817077],\n",
              "       [817077, 818014],\n",
              "       [818014, 818935],\n",
              "       [818935, 819845],\n",
              "       [819845, 820712],\n",
              "       [820712, 821550],\n",
              "       [821550, 822370],\n",
              "       [822370, 823181],\n",
              "       [823181, 823986],\n",
              "       [823986, 824776],\n",
              "       [824776, 825537],\n",
              "       [825537, 826261],\n",
              "       [826261, 826943],\n",
              "       [826943, 827614],\n",
              "       [827614, 828287],\n",
              "       [828287, 828952],\n",
              "       [828952, 829573],\n",
              "       [829573, 830183],\n",
              "       [830183, 830772],\n",
              "       [830772, 831323],\n",
              "       [831323, 831866],\n",
              "       [831866, 832415],\n",
              "       [832415, 833011],\n",
              "       [833011, 833585],\n",
              "       [833585, 834171],\n",
              "       [834171, 834740],\n",
              "       [834740, 835280],\n",
              "       [835280, 835803],\n",
              "       [835803, 836315],\n",
              "       [836315, 836818],\n",
              "       [836818, 837327],\n",
              "       [837327, 837832],\n",
              "       [837832, 838340],\n",
              "       [838340, 838842],\n",
              "       [838842, 839352],\n",
              "       [839352, 839866],\n",
              "       [839866, 840360],\n",
              "       [840360, 840849],\n",
              "       [840849, 841326],\n",
              "       [841326, 841797],\n",
              "       [841797, 842261],\n",
              "       [842261, 842730],\n",
              "       [842730, 843209],\n",
              "       [843209, 843690],\n",
              "       [843690, 844173],\n",
              "       [844173, 844650],\n",
              "       [844650, 845120],\n",
              "       [845120, 845575],\n",
              "       [845575, 846026],\n",
              "       [846026, 846480],\n",
              "       [846480, 846937],\n",
              "       [846937, 847385],\n",
              "       [847385, 847823],\n",
              "       [847823, 848275],\n",
              "       [848275, 848724],\n",
              "       [848724, 849166],\n",
              "       [849166, 849629],\n",
              "       [849629, 850096],\n",
              "       [850096, 850577],\n",
              "       [850577, 851063],\n",
              "       [851063, 851542],\n",
              "       [851542, 852016],\n",
              "       [852016, 852478],\n",
              "       [852478, 852967],\n",
              "       [852967, 853449],\n",
              "       [853449, 853992]])"
            ]
          },
          "metadata": {
            "tags": []
          },
          "execution_count": 45
        }
      ]
    },
    {
      "cell_type": "code",
      "metadata": {
        "id": "UIudop5wrPM7"
      },
      "source": [
        "predict1=model.predict(testx)"
      ],
      "execution_count": 49,
      "outputs": []
    },
    {
      "cell_type": "code",
      "metadata": {
        "id": "FrklKGFBrPPf"
      },
      "source": [
        "df=pd.DataFrame({'actual':testy.flatten(),'predicted':predict1.flatten()})"
      ],
      "execution_count": 52,
      "outputs": []
    },
    {
      "cell_type": "code",
      "metadata": {
        "colab": {
          "base_uri": "https://localhost:8080/",
          "height": 419
        },
        "id": "0V9Lw-mZrPTT",
        "outputId": "a0e2a13b-32fc-4776-f67e-3c5fdce72d67"
      },
      "source": [
        "df"
      ],
      "execution_count": 53,
      "outputs": [
        {
          "output_type": "execute_result",
          "data": {
            "text/html": [
              "<div>\n",
              "<style scoped>\n",
              "    .dataframe tbody tr th:only-of-type {\n",
              "        vertical-align: middle;\n",
              "    }\n",
              "\n",
              "    .dataframe tbody tr th {\n",
              "        vertical-align: top;\n",
              "    }\n",
              "\n",
              "    .dataframe thead th {\n",
              "        text-align: right;\n",
              "    }\n",
              "</style>\n",
              "<table border=\"1\" class=\"dataframe\">\n",
              "  <thead>\n",
              "    <tr style=\"text-align: right;\">\n",
              "      <th></th>\n",
              "      <th>actual</th>\n",
              "      <th>predicted</th>\n",
              "    </tr>\n",
              "  </thead>\n",
              "  <tbody>\n",
              "    <tr>\n",
              "      <th>0</th>\n",
              "      <td>856246</td>\n",
              "      <td>8.567861e+05</td>\n",
              "    </tr>\n",
              "    <tr>\n",
              "      <th>1</th>\n",
              "      <td>856917</td>\n",
              "      <td>8.562188e+05</td>\n",
              "    </tr>\n",
              "    <tr>\n",
              "      <th>2</th>\n",
              "      <td>858272</td>\n",
              "      <td>8.575588e+05</td>\n",
              "    </tr>\n",
              "    <tr>\n",
              "      <th>3</th>\n",
              "      <td>858967</td>\n",
              "      <td>8.595957e+05</td>\n",
              "    </tr>\n",
              "    <tr>\n",
              "      <th>4</th>\n",
              "      <td>859726</td>\n",
              "      <td>8.596326e+05</td>\n",
              "    </tr>\n",
              "    <tr>\n",
              "      <th>...</th>\n",
              "      <td>...</td>\n",
              "      <td>...</td>\n",
              "    </tr>\n",
              "    <tr>\n",
              "      <th>84</th>\n",
              "      <td>2148346</td>\n",
              "      <td>2.149335e+06</td>\n",
              "    </tr>\n",
              "    <tr>\n",
              "      <th>85</th>\n",
              "      <td>2172751</td>\n",
              "      <td>2.173457e+06</td>\n",
              "    </tr>\n",
              "    <tr>\n",
              "      <th>86</th>\n",
              "      <td>2195402</td>\n",
              "      <td>2.196951e+06</td>\n",
              "    </tr>\n",
              "    <tr>\n",
              "      <th>87</th>\n",
              "      <td>2216812</td>\n",
              "      <td>2.217851e+06</td>\n",
              "    </tr>\n",
              "    <tr>\n",
              "      <th>88</th>\n",
              "      <td>2237233</td>\n",
              "      <td>2.238022e+06</td>\n",
              "    </tr>\n",
              "  </tbody>\n",
              "</table>\n",
              "<p>89 rows × 2 columns</p>\n",
              "</div>"
            ],
            "text/plain": [
              "     actual     predicted\n",
              "0    856246  8.567861e+05\n",
              "1    856917  8.562188e+05\n",
              "2    858272  8.575588e+05\n",
              "3    858967  8.595957e+05\n",
              "4    859726  8.596326e+05\n",
              "..      ...           ...\n",
              "84  2148346  2.149335e+06\n",
              "85  2172751  2.173457e+06\n",
              "86  2195402  2.196951e+06\n",
              "87  2216812  2.217851e+06\n",
              "88  2237233  2.238022e+06\n",
              "\n",
              "[89 rows x 2 columns]"
            ]
          },
          "metadata": {
            "tags": []
          },
          "execution_count": 53
        }
      ]
    },
    {
      "cell_type": "code",
      "metadata": {
        "colab": {
          "base_uri": "https://localhost:8080/",
          "height": 948
        },
        "id": "kjhghVQFuo-G",
        "outputId": "8c1ec0cd-2dd8-4b9a-bb30-b85b10f228e7"
      },
      "source": [
        "df.plot(kind='bar',figsize=(10,16))"
      ],
      "execution_count": 75,
      "outputs": [
        {
          "output_type": "execute_result",
          "data": {
            "text/plain": [
              "<matplotlib.axes._subplots.AxesSubplot at 0x7f4e2a387e90>"
            ]
          },
          "metadata": {
            "tags": []
          },
          "execution_count": 75
        },
        {
          "output_type": "display_data",
          "data": {
            "image/png": "[encoded data removed]",
            "text/plain": [
              "<Figure size 720x1152 with 1 Axes>"
            ]
          },
          "metadata": {
            "tags": [],
            "needs_background": "light"
          }
        }
      ]
    },
    {
      "cell_type": "code",
      "metadata": {
        "id": "38qFMbzosVsd"
      },
      "source": [
        ""
      ],
      "execution_count": null,
      "outputs": []
    }
  ]
}